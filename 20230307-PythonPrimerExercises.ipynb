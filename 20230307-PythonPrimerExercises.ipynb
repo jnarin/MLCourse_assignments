{
  "nbformat": 4,
  "nbformat_minor": 0,
  "metadata": {
    "colab": {
      "provenance": [],
      "authorship_tag": "ABX9TyMPYKrbMiNmSKYwq9qQVnTz"
    },
    "kernelspec": {
      "name": "python3",
      "display_name": "Python 3"
    },
    "language_info": {
      "name": "python"
    }
  },
  "cells": [
    {
      "cell_type": "markdown",
      "metadata": {
        "id": "vTzgefCBe61x"
      },
      "source": [
        "## Ex1: Participant Exercise\n",
        "\n",
        "1. Define two variables called called age and income assign values 30 and 50000.0 respectively\n",
        "2. Write a print statement using f-string to print the output as following:\n",
        "    \n",
        "    \"Age is: 30 Years and Income is: INR 50000.0\"\n",
        "\n",
        "3. Write an if-else condition\n",
        "    - if age is more than 25 and less than 40 years and income is more than 30000.0 then set a variable named \"approved\" to True or set to False."
      ]
    },
    {
      "cell_type": "code",
      "execution_count": null,
      "metadata": {
        "colab": {
          "base_uri": "https://localhost:8080/"
        },
        "id": "_cHflVhIfCFr",
        "outputId": "732d6140-c2c3-4449-f7f0-dcd574b066a2"
      },
      "outputs": [
        {
          "output_type": "stream",
          "name": "stdout",
          "text": [
            "Age is: 30 Years and Income is: INR 50000.0\n",
            "True\n"
          ]
        }
      ],
      "source": [
        "age = 30\n",
        "income = 50000.0\n",
        "\n",
        "print(f\"Age is: {age} Years and Income is: INR {income}\")\n",
        "approved = True if age > 25 and age < 40 and income > 30000.0 else False\n",
        "print(approved)\n"
      ]
    },
    {
      "cell_type": "markdown",
      "metadata": {
        "id": "moDOJAI_e61-"
      },
      "source": [
        "## Ex2: Participant Exercise\n",
        "1. Write a function \n",
        "    - named getAgeGroup\n",
        "    - which takes a paramter age\n",
        "    - the default value of the age is 25\n",
        "    - it returns the age group as either \"young\" or \"adult\" or 'mid-age\" or \"old\" based on age\n",
        "        - if age < 20, then return young\n",
        "        - if age >= 20, but < 35 then adult\n",
        "        - if age >= 35, but < 55 then mid-age\n",
        "        - if age > 55 then old\n",
        "2. Invoke the function with different ages and test        "
      ]
    },
    {
      "cell_type": "code",
      "source": [
        "def getAgeGroup(age = 25):\n",
        "  if age < 20:\n",
        "    return \"young\"\n",
        "  elif age >=20 and age <35:\n",
        "    return \"adult\"\n",
        "  elif age >=35 and age <55:\n",
        "    return \"mid-age\"\n",
        "  else:\n",
        "    return \"old\"\n",
        "\n",
        "print(getAgeGroup())\n",
        "print(getAgeGroup(10))\n",
        "print(getAgeGroup(25))\n",
        "print(getAgeGroup(40))\n",
        "print(getAgeGroup(60))\n",
        "\n"
      ],
      "metadata": {
        "colab": {
          "base_uri": "https://localhost:8080/"
        },
        "id": "BHaemQ-Zf11I",
        "outputId": "0960a109-850c-445e-8bf7-e732ec665607"
      },
      "execution_count": 1,
      "outputs": [
        {
          "output_type": "stream",
          "name": "stdout",
          "text": [
            "adult\n",
            "young\n",
            "adult\n",
            "mid-age\n",
            "old\n"
          ]
        }
      ]
    },
    {
      "cell_type": "markdown",
      "metadata": {
        "id": "P96Nfp-YgqDF"
      },
      "source": [
        "## Ex3: Participant Exercise\n",
        "1. Creata a list with the following 10 student names \n",
        "\n",
        "    - Krishnaa J., Jyoti Adhya, C. Haradas, Korravai Parikh, Saurandhri Vaknis, Sambridhi Holkar, Sita Padhy, Ambika Sanyal, Nehal Vadekar, Sarama Upalekar\n",
        "\n",
        "2. Create two lists named \"math_scores\" and \"science_scores\" \n",
        "3. Populate the above two variables with randomly generated numbers between 20 and 90\n",
        "4. Both the scores should have exactly 10 items only. Assume that the names and scores are mapped in the same sequence.\n",
        "5. Write a function which takes math and science score of each individual returns the total score and grade\n",
        "    - Grade is Pass if both the scores are greater than equal to 50\n",
        "    - Grade is Fail if any one of the scores is less than 50\n",
        "    - The function should return a tuple with total score and grade e.g. (110, \"Pass\")\n",
        "    \n",
        "5. Iterate through the student names and invoke the above function\n",
        "6. Store all information in a dictionary with names as keys and results (tuple with total score and grade) as values.\n",
        "7. Print the dictionary"
      ]
    },
    {
      "cell_type": "code",
      "source": [
        "from random import randint\n",
        "\n",
        "def checkScores(name, math, science):\n",
        "  total = math + science\n",
        "  if math >= 50 and science >=50:\n",
        "    return (total, \"Pass\")\n",
        "\n",
        "  return (total, \"Fail\")\n",
        "\n",
        "\n",
        "student_names = [\"Krishnaa J.\", \"Jyoti Adhya\", \"C. Haradas\", \"Korravai Parikh\", \"Saurandhri Vaknis\", \"Sambridhi Holkar\", \"Sita Padhy\", \"Ambika Sanyal\", \"Nehal Vadekar\", \"Sarama Upalekar\"]\n",
        "math_scores = []\n",
        "science_scores = []\n",
        "ans = {}\n",
        "\n",
        "for i in range(0, len(student_names)):\n",
        "  math_scores.append(randint(20, 90))\n",
        "  science_scores.append(randint(20, 90))\n",
        "\n",
        "for i in range(0, len(student_names)):\n",
        "  ans[student_names[i]] = checkScores(student_names[i], math_scores[i], science_scores[i])\n",
        "\n",
        "print(ans)"
      ],
      "metadata": {
        "colab": {
          "base_uri": "https://localhost:8080/"
        },
        "id": "r01PIrMxhQxc",
        "outputId": "fd68f26d-d052-4e91-ad64-4cb7cc9ba6ee"
      },
      "execution_count": null,
      "outputs": [
        {
          "output_type": "stream",
          "name": "stdout",
          "text": [
            "{'Krishnaa J.': (118, 'Fail'), 'Jyoti Adhya': (124, 'Pass'), 'C. Haradas': (81, 'Fail'), 'Korravai Parikh': (82, 'Fail'), 'Saurandhri Vaknis': (87, 'Fail'), 'Sambridhi Holkar': (51, 'Fail'), 'Sita Padhy': (86, 'Fail'), 'Ambika Sanyal': (167, 'Pass'), 'Nehal Vadekar': (95, 'Fail'), 'Sarama Upalekar': (132, 'Fail')}\n"
          ]
        }
      ]
    },
    {
      "cell_type": "markdown",
      "metadata": {
        "id": "Fbo8fYbQgqDV"
      },
      "source": [
        "## Ex4: Participant Exercise\n",
        "\n",
        "1. The variable **daily_prices** contains information about a stock open and close prices for 10 days\n",
        "2. Calculate the daily gains and create a dictionary which stores the date and daily gains as shown below\n",
        "\n",
        "```\n",
        "[{'Date': '17-05-2016', 'Gain': -0.32},\n",
        " {'Date': '16-05-2016', 'Gain': 0.33},\n",
        " {'Date': '13-05-2016', 'Gain': -0.02},\n",
        " {'Date': '12-05-2016', 'Gain': 0.1},\n",
        " {'Date': '11-05-2016', 'Gain': -0.33},\n",
        " {'Date': '10-05-2016', 'Gain': 1.05},\n",
        " {'Date': '09-05-2016', 'Gain': 0.77},\n",
        " {'Date': '06-05-2016', 'Gain': -0.89},\n",
        " {'Date': '05-05-2016', 'Gain': 0.12},\n",
        " {'Date': '04-05-2016', 'Gain': -0.12}]\n",
        "```\n",
        "\n",
        "3. The gain should be calculated as (Close - Open) *100 / Open.\n",
        "4. The gain value should be rounded to 2 decimal places\n",
        "5. Accomplish the above task using both the approaches: List comprehension and map() function"
      ]
    },
    {
      "cell_type": "code",
      "execution_count": 2,
      "metadata": {
        "id": "wKXFzEpvgqDW",
        "colab": {
          "base_uri": "https://localhost:8080/"
        },
        "outputId": "48a5ff04-20d2-48c3-9018-4c6f8a829884"
      },
      "outputs": [
        {
          "output_type": "stream",
          "name": "stdout",
          "text": [
            "[{'Date': '17-05-2016', 'Gain': -0.32}, {'Date': '16-05-2016', 'Gain': 0.33}, {'Date': '13-05-2016', 'Gain': -0.02}, {'Date': '12-05-2016', 'Gain': 0.1}, {'Date': '11-05-2016', 'Gain': -0.33}, {'Date': '10-05-2016', 'Gain': 1.05}, {'Date': '09-05-2016', 'Gain': 0.77}, {'Date': '06-05-2016', 'Gain': -0.89}, {'Date': '05-05-2016', 'Gain': 0.12}, {'Date': '04-05-2016', 'Gain': -0.12}]\n"
          ]
        }
      ],
      "source": [
        "daily_prices = [ {'Date': '17-05-2016', 'Open': 1218.0, 'Close': 1214.05005},\n",
        "                 {'Date': '16-05-2016', 'Open': 1210.0, 'Close': 1213.94995},\n",
        "                 {'Date': '13-05-2016', 'Open': 1207.0, 'Close': 1206.69995},\n",
        "                 {'Date': '12-05-2016', 'Open': 1208.94995, 'Close': 1210.19995},\n",
        "                 {'Date': '11-05-2016', 'Open': 1205.0, 'Close': 1201.05005},\n",
        "                 {'Date': '10-05-2016', 'Open': 1200.0, 'Close': 1212.55005},\n",
        "                 {'Date': '09-05-2016', 'Open': 1190.0, 'Close': 1199.1500199999998},\n",
        "                 {'Date': '06-05-2016', 'Open': 1192.0, 'Close': 1181.44995},\n",
        "                 {'Date': '05-05-2016', 'Open': 1191.0, 'Close': 1192.44995},\n",
        "                 {'Date': '04-05-2016', 'Open': 1191.0, 'Close': 1189.55005} ]\n",
        "\n",
        "def calcGain(d):\n",
        "  ans = {}\n",
        "  gain = round((d[\"Close\"] - d[\"Open\"])*100/d[\"Open\"], 2)\n",
        "  ans[\"Date\"] = d[\"Date\"]\n",
        "  ans[\"Gain\"] = gain\n",
        "  return ans\n",
        "\n",
        "# Using list comprehension\n",
        "ans_list = [calcGain(daily_price) for daily_price in daily_prices]\n",
        "print(ans_list)\n"
      ]
    },
    {
      "cell_type": "code",
      "execution_count": 4,
      "metadata": {
        "colab": {
          "base_uri": "https://localhost:8080/"
        },
        "outputId": "50a17074-f1e9-4226-c6fe-466b095fdb1e",
        "id": "ESJJ--5UQZDY"
      },
      "outputs": [
        {
          "output_type": "stream",
          "name": "stdout",
          "text": [
            "[{'Date': '17-05-2016', 'Gain': -0.32}, {'Date': '16-05-2016', 'Gain': 0.33}, {'Date': '13-05-2016', 'Gain': -0.02}, {'Date': '12-05-2016', 'Gain': 0.1}, {'Date': '11-05-2016', 'Gain': -0.33}, {'Date': '10-05-2016', 'Gain': 1.05}, {'Date': '09-05-2016', 'Gain': 0.77}, {'Date': '06-05-2016', 'Gain': -0.89}, {'Date': '05-05-2016', 'Gain': 0.12}, {'Date': '04-05-2016', 'Gain': -0.12}]\n"
          ]
        }
      ],
      "source": [
        "daily_prices = [ {'Date': '17-05-2016', 'Open': 1218.0, 'Close': 1214.05005},\n",
        "                 {'Date': '16-05-2016', 'Open': 1210.0, 'Close': 1213.94995},\n",
        "                 {'Date': '13-05-2016', 'Open': 1207.0, 'Close': 1206.69995},\n",
        "                 {'Date': '12-05-2016', 'Open': 1208.94995, 'Close': 1210.19995},\n",
        "                 {'Date': '11-05-2016', 'Open': 1205.0, 'Close': 1201.05005},\n",
        "                 {'Date': '10-05-2016', 'Open': 1200.0, 'Close': 1212.55005},\n",
        "                 {'Date': '09-05-2016', 'Open': 1190.0, 'Close': 1199.1500199999998},\n",
        "                 {'Date': '06-05-2016', 'Open': 1192.0, 'Close': 1181.44995},\n",
        "                 {'Date': '05-05-2016', 'Open': 1191.0, 'Close': 1192.44995},\n",
        "                 {'Date': '04-05-2016', 'Open': 1191.0, 'Close': 1189.55005} ]\n",
        "\n",
        "def calcGain(d):\n",
        "  ans = {}\n",
        "  gain = round((d[\"Close\"] - d[\"Open\"])*100/d[\"Open\"], 2)\n",
        "  ans[\"Date\"] = d[\"Date\"]\n",
        "  ans[\"Gain\"] = gain\n",
        "  return ans\n",
        "\n",
        "# Using map\n",
        "ans_list2 = list(map(calcGain, daily_prices))\n",
        "print(ans_list2)\n"
      ]
    }
  ]
}
